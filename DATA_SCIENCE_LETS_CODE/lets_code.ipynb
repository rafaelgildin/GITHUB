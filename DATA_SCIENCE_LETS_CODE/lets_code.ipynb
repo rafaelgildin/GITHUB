{
 "cells": [
  {
   "cell_type": "markdown",
   "metadata": {
    "slideshow": {
     "slide_type": "slide"
    }
   },
   "source": [
    "# Quantas pastas dentais são vendidas no Brasil por mês?\n",
    "\n",
    "<p>Autor: Rafael Avraham Gildin Acherboim</p>\n",
    "<p>Data: 22/07/2021</p>"
   ]
  },
  {
   "cell_type": "markdown",
   "metadata": {},
   "source": [
    "## Dados\n",
    "    1) População brasileira;\n",
    "    2) Média de dias em 1 mês;\n",
    "    3) Quantidade ideal de escovações diárias;\n",
    "    4) Média da massa, em gramas, de 1 pasta de dente;\n",
    "    5) Quantidade ideal de pasta de dente em 1 escovação;"
   ]
  },
  {
   "cell_type": "markdown",
   "metadata": {},
   "source": [
    "### 1) População brasileira;"
   ]
  },
  {
   "cell_type": "code",
   "execution_count": 1,
   "metadata": {},
   "outputs": [],
   "source": [
    "# https://www.ibge.gov.br/cidades-e-estados ~212m\n",
    "populacao_brasileira = 211755692"
   ]
  },
  {
   "cell_type": "markdown",
   "metadata": {},
   "source": [
    "### 2) Média de dias em 1 mês;"
   ]
  },
  {
   "cell_type": "code",
   "execution_count": 2,
   "metadata": {},
   "outputs": [],
   "source": [
    "dias_no_mes = 30"
   ]
  },
  {
   "cell_type": "markdown",
   "metadata": {},
   "source": [
    "### 3) Quantidade ideal de escovação diária;"
   ]
  },
  {
   "cell_type": "code",
   "execution_count": 3,
   "metadata": {},
   "outputs": [],
   "source": [
    "#https://www.uol.com.br/vivabem/noticias/redacao/2018/03/27/5-erros-de-escovacao-que-prejudicam-seus-dentes.htm\n",
    "q_vezes_escovacao_diaria = 4"
   ]
  },
  {
   "cell_type": "markdown",
   "metadata": {},
   "source": [
    "### 4) Média, em gramas, de 1 pasta de dente;"
   ]
  },
  {
   "cell_type": "code",
   "execution_count": 4,
   "metadata": {},
   "outputs": [
    {
     "name": "stdout",
     "output_type": "stream",
     "text": [
      "Média de massa por pasta = 93.0 gramas\n"
     ]
    }
   ],
   "source": [
    "# https://www.amazon.com.br/gp/bestsellers/hpc/16769385011\n",
    "# pastas dentais mais vendidas (amostra de 10 pastas) -> média de massa(gramas) por pasta\n",
    "\n",
    "import pandas as pd\n",
    "\n",
    "dados = [90, 180, 90, 50, 90, 90, 70, 110, 70, 90]\n",
    "massa_por_pasta = pd.Series(dados)\n",
    "media_massa_por_pasta = massa_por_pasta.mean()\n",
    "print(f\"Média de massa por pasta = {media_massa_por_pasta} gramas\")"
   ]
  },
  {
   "cell_type": "markdown",
   "metadata": {},
   "source": [
    "### 5) Quantidade ideal de pasta de dente em 1 escovação;"
   ]
  },
  {
   "cell_type": "code",
   "execution_count": 5,
   "metadata": {},
   "outputs": [
    {
     "data": {
      "text/plain": [
       "0.25"
      ]
     },
     "execution_count": 5,
     "metadata": {},
     "output_type": "execute_result"
    }
   ],
   "source": [
    "# https://www.portalsaofrancisco.com.br/alimentos/ervilha#:~:text=O%20peso%20m%C3%A9dio%20de%20uma,frescas%2C%20congeladas%20ou%20at%C3%A9%20secas.\n",
    "\n",
    "media_grao_de_ervilha = (0.1 + 0.4)/2\n",
    "media_grao_de_ervilha"
   ]
  },
  {
   "cell_type": "markdown",
   "metadata": {},
   "source": [
    "### Resultado"
   ]
  },
  {
   "cell_type": "code",
   "execution_count": 6,
   "metadata": {},
   "outputs": [
    {
     "name": "stdout",
     "output_type": "stream",
     "text": [
      "Considerando as informações pesquisadas e que os brasileiros não estocam pastas dentais:\n",
      "\n",
      "Massa de pasta consumida por 1 brasileiro diáriamente = 1.0 grama.\n",
      "Massa de pasta consumida por 1 brasileiro mensalmente = 30.0 gramas.\n",
      "Massa de pasta consumida pelos brasileiros mensalmente = 6352670760.00 gramas. (~6.4 b)\n",
      "Quantidade de pastas dentais vendidas no Brasil por mês = 68308288 pastas. (~68.3 m)\n"
     ]
    }
   ],
   "source": [
    "print('Considerando as informações pesquisadas e que os brasileiros não estocam pastas dentais:\\n')\n",
    "\n",
    "\n",
    "massa_pasta_habitante_diaria = q_vezes_escovacao_diaria * media_grao_de_ervilha\n",
    "print(f'Massa de pasta consumida por 1 brasileiro diáriamente = {massa_pasta_habitante_diaria}'+ \n",
    "      ' grama.')\n",
    "\n",
    "massa_pasta_habitante_mensal = massa_pasta_habitante_diaria * dias_no_mes\n",
    "print(f'Massa de pasta consumida por 1 brasileiro mensalmente = {massa_pasta_habitante_mensal}'+ \n",
    "      ' gramas.')\n",
    "\n",
    "massa_pasta_brasil_mensal = massa_pasta_habitante_mensal * populacao_brasileira\n",
    "print(f'Massa de pasta consumida pelos brasileiros mensalmente = {massa_pasta_brasil_mensal:.2f}'+ \n",
    "      ' gramas. (~6.4 b)')\n",
    "\n",
    "\n",
    "r = massa_pasta_brasil_mensal / media_massa_por_pasta\n",
    "print(f'Quantidade de pastas dentais vendidas no Brasil por mês = {r:.0f} pastas. (~68.3 m)')"
   ]
  }
 ],
 "metadata": {
  "kernelspec": {
   "display_name": "Python 3",
   "language": "python",
   "name": "python3"
  },
  "language_info": {
   "codemirror_mode": {
    "name": "ipython",
    "version": 3
   },
   "file_extension": ".py",
   "mimetype": "text/x-python",
   "name": "python",
   "nbconvert_exporter": "python",
   "pygments_lexer": "ipython3",
   "version": "3.8.3"
  }
 },
 "nbformat": 4,
 "nbformat_minor": 4
}
