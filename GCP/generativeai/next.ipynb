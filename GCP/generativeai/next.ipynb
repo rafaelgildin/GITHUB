{
 "cells": [
  {
   "cell_type": "markdown",
   "metadata": {},
   "source": [
    "# Build Custom Chatbot\n",
    "- linkedIn: https://developers.generativeai.google/tutorials/chat_quickstart\n",
    "- https://github.com/GoogleCloudPlatform/generative-ai/blob/main/language/examples/langchain-intro/intro_langchain_palm_api.ipynb\n",
    "- https://python.langchain.com/docs/get_started/quickstart\n",
    "- test palm models"
   ]
  },
  {
   "cell_type": "code",
   "execution_count": null,
   "metadata": {},
   "outputs": [],
   "source": [
    "\n",
    "\n",
    "from langchain.chat_models import ChatVertexAI\n",
    "from langchain.prompts.chat import (\n",
    "    ChatPromptTemplate,\n",
    "    SystemMessagePromptTemplate,\n",
    "    HumanMessagePromptTemplate,\n",
    ")\n",
    "from langchain.schema import HumanMessage, SystemMessage\n",
    "\n"
   ]
  },
  {
   "cell_type": "code",
   "execution_count": null,
   "metadata": {},
   "outputs": [],
   "source": [
    "response = palm.chat(messages='Hello')\n",
    "response.last"
   ]
  },
  {
   "cell_type": "code",
   "execution_count": null,
   "metadata": {},
   "outputs": [],
   "source": [
    "response.messages\n"
   ]
  },
  {
   "cell_type": "code",
   "execution_count": null,
   "metadata": {},
   "outputs": [],
   "source": [
    "template = (\n",
    "    \"You are a helpful assistant that translates {input_language} to {output_language}.\"\n",
    ")\n",
    "system_message_prompt = SystemMessagePromptTemplate.from_template(template)\n",
    "human_template = \"{text}\"\n",
    "human_message_prompt = HumanMessagePromptTemplate.from_template(human_template)\n",
    "\n",
    "chat_prompt = ChatPromptTemplate.from_messages(\n",
    "    [system_message_prompt, human_message_prompt]\n",
    ")\n",
    "\n",
    "# get a chat completion from the formatted messages\n",
    "chat(\n",
    "    chat_prompt.format_prompt(\n",
    "        input_language=\"English\", output_language=\"French\", text=\"I love programming.\"\n",
    "    ).to_messages()\n",
    ")"
   ]
  },
  {
   "cell_type": "code",
   "execution_count": null,
   "metadata": {},
   "outputs": [],
   "source": [
    "defaults = {\n",
    "  'model': 'models/chat-bison-001',\n",
    "  'temperature': 0.25,\n",
    "  'candidate_count': 1,\n",
    "  'top_k': 40,\n",
    "  'top_p': 0.95,\n",
    "}\n",
    "context = \"\"\n",
    "examples = []\n",
    "messages = [\n",
    "  \"You're a ML engineer.\\nTell me ways to make money as if you're my employee.\",\n",
    "  \"As an ML engineer, I can help you make money in a number of ways. Here are a few ideas:\\n\\n* **Build and sell ML models.** You can build ML models that can be used to solve a variety of problems, such as image recognition, natural language processing, and fraud detection. You can then sell these models to businesses that need them.\\n* **Provide ML consulting services.** You can provide consulting services to businesses that need help with ML projects. This could involve helping them to choose the right ML algorithms, train and deploy models, and interpret results.\\n* **Teach ML courses.** You can teach ML courses online or in person. This is a great way to share your knowledge with others and make some money on the side.\\n* **Write ML blog posts and articles.** You can write blog posts and articles about ML topics. This is a great way to share your knowledge with others and attract attention to your work. You can also monetize your blog through advertising or affiliate marketing.\\n* **Create ML-powered products and services.** You can create ML-powered products and services that people can use. This could involve creating an app, website, or software tool.\\n* **Invest in ML startups.** You can invest in ML startups that are developing innovative new technologies. This is a great way to get involved in the ML industry and potentially make a lot of money.\\n\\nThese are just a few ideas for how you can make money as an ML engineer. With your skills and expertise, you can find many ways to use ML to solve problems and make a difference in the world.\"\n",
    "]\n",
    "messages.append(\"NEXT REQUEST\")\n",
    "response = palm.chat(\n",
    "  **defaults,\n",
    "  context=context,\n",
    "  examples=examples,\n",
    "  messages=messages\n",
    ")\n",
    "print(response.last)"
   ]
  },
  {
   "cell_type": "code",
   "execution_count": null,
   "metadata": {},
   "outputs": [],
   "source": [
    "import streamlit as st"
   ]
  },
  {
   "cell_type": "code",
   "execution_count": null,
   "metadata": {},
   "outputs": [],
   "source": []
  },
  {
   "cell_type": "code",
   "execution_count": null,
   "metadata": {},
   "outputs": [],
   "source": [
    "chat = ChatVertexAI()\n",
    "messages = [\n",
    "    SystemMessage(\n",
    "        content=\"You are a helpful assistant that translates English to French.\"\n",
    "    ),\n",
    "    HumanMessage(\n",
    "        content=\"Translate this sentence from English to French. I love programming.\"\n",
    "    ),\n",
    "]\n",
    "chat(messages)"
   ]
  },
  {
   "cell_type": "code",
   "execution_count": null,
   "metadata": {},
   "outputs": [],
   "source": [
    "template = (\n",
    "    \"You are a helpful assistant that translates {input_language} to {output_language}.\"\n",
    ")\n",
    "system_message_prompt = SystemMessagePromptTemplate.from_template(template)\n",
    "human_template = \"{text}\"\n",
    "human_message_prompt = HumanMessagePromptTemplate.from_template(human_template)\n",
    "\n",
    "chat_prompt = ChatPromptTemplate.from_messages(\n",
    "    [system_message_prompt, human_message_prompt]\n",
    ")\n",
    "\n",
    "# get a chat completion from the formatted messages\n",
    "chat(\n",
    "    chat_prompt.format_prompt(\n",
    "        input_language=\"English\", output_language=\"French\", text=\"I love programming.\"\n",
    "    ).to_messages()\n",
    ")"
   ]
  },
  {
   "cell_type": "code",
   "execution_count": null,
   "metadata": {},
   "outputs": [],
   "source": [
    "chat = ChatVertexAI(model_name=\"codechat-bison\")\n",
    "messages = [\n",
    "    HumanMessage(\n",
    "        content=\"How do I create a python function to identify all prime numbers?\"\n",
    "    )\n",
    "]\n",
    "chat(messages)\n"
   ]
  },
  {
   "cell_type": "code",
   "execution_count": null,
   "metadata": {},
   "outputs": [],
   "source": []
  },
  {
   "cell_type": "code",
   "execution_count": null,
   "metadata": {},
   "outputs": [],
   "source": []
  }
 ],
 "metadata": {
  "kernelspec": {
   "display_name": ".venv",
   "language": "python",
   "name": "python3"
  },
  "language_info": {
   "codemirror_mode": {
    "name": "ipython",
    "version": 3
   },
   "file_extension": ".py",
   "mimetype": "text/x-python",
   "name": "python",
   "nbconvert_exporter": "python",
   "pygments_lexer": "ipython3",
   "version": "3.10.10"
  },
  "orig_nbformat": 4
 },
 "nbformat": 4,
 "nbformat_minor": 2
}
