{
 "cells": [
  {
   "cell_type": "code",
   "execution_count": 1,
   "metadata": {},
   "outputs": [
    {
     "name": "stdout",
     "output_type": "stream",
     "text": [
      "Sure, here is a sample email requesting a meeting:\n",
      "\n",
      "Dear [Name of recipient],\n",
      "\n",
      "I hope this email finds you well.\n",
      "\n",
      "I am writing to request a meeting with you to discuss [topic of meeting]. I believe this meeting would be beneficial for both of us, as it would allow us to [discuss a specific issue, brainstorm ideas, etc.].\n",
      "\n",
      "I am available to meet at your convenience. Please let me know if you have any questions or if you would like to schedule a time to meet.\n",
      "\n",
      "Thank you for your time and consideration.\n",
      "\n",
      "Sincerely,\n",
      "[Your name]\n"
     ]
    }
   ],
   "source": [
    "import os\n",
    "import google.generativeai as palm\n",
    "from dotenv import load_dotenv\n",
    "load_dotenv()\n",
    "palm.configure(api_key=os.environ['API_KEY'])\n",
    "\n",
    "defaults = {\n",
    "  'model': 'models/chat-bison-001',\n",
    "  'temperature': 0.25,\n",
    "  'candidate_count': 1,\n",
    "  'top_k': 40,\n",
    "  'top_p': 0.95,\n",
    "}\n",
    "context = \"Given a topic, write emails in a concise, professional manner\"\n",
    "examples = [\n",
    "  [\n",
    "    \"Request vacation time next week\",\n",
    "    \"Dear [Manager's name],\\n\\nI am writing to request vacation time from [start date] to [end date]. I will be using my accrued vacation time for this trip.\\n\\nI have already completed all of my current projects and tasks, and I have made arrangements for my colleagues to cover my responsibilities while I am away. I will be available by email and phone if needed.\\n\\nI am looking forward to this time to relax and recharge. I will be back in the office on [return date].\\n\\nThank you for your approval.\\n\\nSincerely,\\n[Your name]\"\n",
    "  ],\n",
    "  [\n",
    "    \"Make it shorter\",\n",
    "    \"Dear [Manager's name],\\n\\nI am writing to request vacation from [start date] to [end date]. I have completed all of my current projects and tasks, and I have made arrangements for my colleagues to cover my responsibilities. I will be available by email and phone if needed.\\n\\nThank you for your approval.\\n\\nSincerely,\\n[Your name]\"\n",
    "  ]\n",
    "]\n",
    "messages = [\n",
    "  \"Suggest a product from my company\",\n",
    "  \"Hi [Customer name],\\n\\nI hope this email finds you well.\\n\\nI'm writing to you today to suggest a product from our company that I think you'll really love. It's our new [product name], and it's perfect for [customer's needs].\\n\\nThe [product name] is a [product description]. It's made with [high-quality materials], and it's backed by our [money-back guarantee].\\n\\nI think you'll really love the [product name]. It's the perfect way to [solve customer's problem].\\n\\nI've included a link to the product page below. I hope you'll take a look and let me know what you think.\\n\\nThanks,\\n[Your name]\\n\\n[Product link]\"\n",
    "]\n",
    "messages.append(\"NEXT REQUEST\")\n",
    "response = palm.chat(\n",
    "  **defaults,\n",
    "  context=context,\n",
    "  examples=examples,\n",
    "  messages=messages\n",
    ")\n",
    "print(response.last) # Response of the AI to your most recent request"
   ]
  }
 ],
 "metadata": {
  "kernelspec": {
   "display_name": ".venv",
   "language": "python",
   "name": "python3"
  },
  "language_info": {
   "codemirror_mode": {
    "name": "ipython",
    "version": 3
   },
   "file_extension": ".py",
   "mimetype": "text/x-python",
   "name": "python",
   "nbconvert_exporter": "python",
   "pygments_lexer": "ipython3",
   "version": "3.10.10"
  },
  "orig_nbformat": 4
 },
 "nbformat": 4,
 "nbformat_minor": 2
}
